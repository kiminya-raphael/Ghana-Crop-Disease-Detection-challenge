{
  "cells": [
    {
      "cell_type": "markdown",
      "source": [
        "# Main"
      ],
      "metadata": {
        "id": "BPXJ_eQWq0wY"
      }
    },
    {
      "cell_type": "code",
      "execution_count": 1,
      "metadata": {
        "id": "VXdsJ8nq3vX5",
        "colab": {
          "base_uri": "https://localhost:8080/"
        },
        "outputId": "267ec1e7-1674-44a2-e7cf-88a0317b30ce"
      },
      "outputs": [
        {
          "output_type": "stream",
          "name": "stderr",
          "text": [
            "/usr/local/lib/python3.10/dist-packages/albumentations/__init__.py:24: UserWarning: A new version of Albumentations is available: 1.4.22 (you have 1.4.20). Upgrade using: pip install -U albumentations. To disable automatic update checks, set the environment variable NO_ALBUMENTATIONS_UPDATE to 1.\n",
            "  check_for_updates()\n"
          ]
        }
      ],
      "source": [
        "import pandas as pd, numpy as np\n",
        "import sys,os,shutil,gc,re,json,glob,math,time,random,warnings\n",
        "from tqdm import tqdm\n",
        "from sklearn.model_selection import StratifiedGroupKFold\n",
        "import sklearn.metrics as skm\n",
        "import torch\n",
        "import cv2\n",
        "import yaml\n",
        "import albumentations as A\n",
        "from ultralytics.data.build import YOLODataset\n",
        "import ultralytics.data.build as build\n",
        "from ultralytics import YOLO\n",
        "from ensemble_boxes import *\n",
        "\n",
        "N_SPLITS = 5\n",
        "RANDOM_STATE = 41\n",
        "FOLD=0\n",
        "\n",
        "def fix_seed(seed):\n",
        "    random.seed(seed)\n",
        "    os.environ['PYTHONHASHSEED'] = str(seed)\n",
        "    np.random.seed(seed)\n",
        "    torch.manual_seed(seed)\n",
        "    torch.cuda.manual_seed(seed)\n",
        "    torch.backends.cudnn.benchmark = False\n",
        "\n",
        "fix_seed(RANDOM_STATE)\n",
        "device = torch.device(\"cuda\" if torch.cuda.is_available() else \"cpu\")"
      ]
    },
    {
      "cell_type": "code",
      "source": [],
      "metadata": {
        "id": "UNAGjP0Pqg8z"
      },
      "execution_count": 1,
      "outputs": []
    },
    {
      "cell_type": "code",
      "execution_count": 2,
      "metadata": {
        "id": "3eQF2Rut5eKL",
        "colab": {
          "base_uri": "https://localhost:8080/"
        },
        "outputId": "30ac84a7-336a-4a21-9739-586001766101"
      },
      "outputs": [
        {
          "output_type": "execute_result",
          "data": {
            "text/plain": [
              "(2101, 8)"
            ]
          },
          "metadata": {},
          "execution_count": 2
        }
      ],
      "source": [
        "DIR_DATA = 'data'\n",
        "df_test = pd.read_csv(f'{DIR_DATA}/Test.csv')\n",
        "df_test['path'] = f'{DIR_DATA}/images/'+df_test.Image_ID\n",
        "df_test.shape"
      ]
    },
    {
      "cell_type": "code",
      "execution_count": 3,
      "metadata": {
        "id": "aaEkERgyRfWx"
      },
      "outputs": [],
      "source": [
        "assert len(df_test) == df_test.Image_ID.nunique()"
      ]
    },
    {
      "cell_type": "code",
      "source": [
        "IMGSZS =  [640,768,800,896,960,1024,1280,1344,1440,1536,1600,1760,1856,1920]\n",
        "len(IMGSZS)"
      ],
      "metadata": {
        "colab": {
          "base_uri": "https://localhost:8080/"
        },
        "id": "uTLU2OtWnYYa",
        "outputId": "4b730879-f865-4876-929f-c43e7fe54425"
      },
      "execution_count": 4,
      "outputs": [
        {
          "output_type": "execute_result",
          "data": {
            "text/plain": [
              "14"
            ]
          },
          "metadata": {},
          "execution_count": 4
        }
      ]
    },
    {
      "cell_type": "code",
      "source": [
        "class2id = {'Corn_Cercospora_Leaf_Spot': 0, 'Corn_Common_Rust': 1, 'Corn_Healthy': 2, 'Corn_Northern_Leaf_Blight': 3, 'Corn_Streak': 4, 'Pepper_Bacterial_Spot': 5, 'Pepper_Cercospora': 6, 'Pepper_Early_Blight': 7, 'Pepper_Fusarium': 8, 'Pepper_Healthy': 9, 'Pepper_Late_Blight': 10, 'Pepper_Leaf_Blight': 11, 'Pepper_Leaf_Curl': 12, 'Pepper_Leaf_Mosaic': 13, 'Pepper_Septoria': 14, 'Tomato_Bacterial_Spot': 15, 'Tomato_Early_Blight': 16, 'Tomato_Fusarium': 17, 'Tomato_Healthy': 18, 'Tomato_Late_Blight': 19, 'Tomato_Leaf_Curl': 20, 'Tomato_Mosaic': 21, 'Tomato_Septoria': 22}\n",
        "id2class = {v:k for k,v in class2id.items()}\n",
        "print(id2class)"
      ],
      "metadata": {
        "colab": {
          "base_uri": "https://localhost:8080/"
        },
        "id": "i32lvWtDPlkw",
        "outputId": "36a2aba5-e87e-47a3-fdeb-04076be7dd82"
      },
      "execution_count": 5,
      "outputs": [
        {
          "output_type": "stream",
          "name": "stdout",
          "text": [
            "{0: 'Corn_Cercospora_Leaf_Spot', 1: 'Corn_Common_Rust', 2: 'Corn_Healthy', 3: 'Corn_Northern_Leaf_Blight', 4: 'Corn_Streak', 5: 'Pepper_Bacterial_Spot', 6: 'Pepper_Cercospora', 7: 'Pepper_Early_Blight', 8: 'Pepper_Fusarium', 9: 'Pepper_Healthy', 10: 'Pepper_Late_Blight', 11: 'Pepper_Leaf_Blight', 12: 'Pepper_Leaf_Curl', 13: 'Pepper_Leaf_Mosaic', 14: 'Pepper_Septoria', 15: 'Tomato_Bacterial_Spot', 16: 'Tomato_Early_Blight', 17: 'Tomato_Fusarium', 18: 'Tomato_Healthy', 19: 'Tomato_Late_Blight', 20: 'Tomato_Leaf_Curl', 21: 'Tomato_Mosaic', 22: 'Tomato_Septoria'}\n"
          ]
        }
      ]
    },
    {
      "cell_type": "code",
      "execution_count": 5,
      "metadata": {
        "id": "YZveKINrDgW2"
      },
      "outputs": [],
      "source": []
    },
    {
      "cell_type": "code",
      "source": [
        "%%time\n",
        "from collections import defaultdict\n",
        "FOLD = 0\n",
        "model = YOLO(f'runs/detect/train_{FOLD}/weights/best.pt',task='detect')\n",
        "model.eval();\n",
        "model.training=False\n",
        "\n",
        "all_data = defaultdict(list)\n",
        "\n",
        "minconf = 0.0\n",
        "for _,row in tqdm(df_test.iterrows(),total=len(df_test)):\n",
        "    img = cv2.imread(row.path)\n",
        "    h,w,c = img.shape\n",
        "\n",
        "    for imgsz in IMGSZS:\n",
        "        results = model(img,imgsz=imgsz, verbose=False,conf=minconf,augment=True,iou=0.4,max_det=500)[0]\n",
        "\n",
        "        boxes = results.boxes.xyxy.cpu().numpy()\n",
        "        classes = results.boxes.cls.cpu().numpy()\n",
        "        confidences = results.boxes.conf.cpu().numpy()\n",
        "        ixs = confidences>=minconf\n",
        "        boxes = boxes[ixs]\n",
        "        classes = classes[ixs]\n",
        "        confidences = confidences[ixs]\n",
        "        if len(boxes)==0:\n",
        "            # If no detections, add default class\n",
        "            print('No detection', row.Image_ID)\n",
        "            all_data[imgsz].append({\n",
        "                'Image_ID': row.Image_ID,\n",
        "                'class': 'Corn_Healthy',\n",
        "                'confidence': 0.5,\n",
        "                'ymin': 0,\n",
        "                'xmin': 0,\n",
        "                'ymax': 0,\n",
        "                'xmax': 0\n",
        "            })\n",
        "        else:\n",
        "            # Iterate through the results for this image\n",
        "            for box, cls, conf in zip(boxes, classes, confidences):\n",
        "                x1, y1, x2, y2 = box\n",
        "                detected_class = id2class[int(cls)]\n",
        "                # Add the result to the all_data list\n",
        "                all_data[imgsz].append({\n",
        "                    'Image_ID': row.Image_ID,\n",
        "                    'class': detected_class,\n",
        "                    'confidence': conf,\n",
        "                    'ymin': y1,\n",
        "                    'xmin': x1,\n",
        "                    'ymax': y2,\n",
        "                    'xmax': x2\n",
        "                })\n"
      ],
      "metadata": {
        "id": "4R3l7oX7T44n",
        "colab": {
          "base_uri": "https://localhost:8080/"
        },
        "outputId": "f601a796-8dc3-4c44-c109-e66a6567bcb4"
      },
      "execution_count": 6,
      "outputs": [
        {
          "output_type": "stream",
          "name": "stderr",
          "text": [
            "100%|██████████| 2101/2101 [1:16:41<00:00,  2.19s/it]"
          ]
        },
        {
          "output_type": "stream",
          "name": "stdout",
          "text": [
            "CPU times: user 52min 52s, sys: 23min 10s, total: 1h 16min 2s\n",
            "Wall time: 1h 16min 41s\n"
          ]
        },
        {
          "output_type": "stream",
          "name": "stderr",
          "text": [
            "\n"
          ]
        }
      ]
    },
    {
      "cell_type": "code",
      "execution_count": 6,
      "metadata": {
        "id": "EBCSC5dj5gVw"
      },
      "outputs": [],
      "source": []
    },
    {
      "cell_type": "code",
      "source": [
        "!mkdir -p test_preds\n",
        "for imgsz in IMGSZS:\n",
        "  preds = pd.DataFrame(all_data[imgsz])\n",
        "  preds.to_csv(f'test_preds/preds_{FOLD}_{imgsz}.csv',index=False)\n",
        "  print(imgsz,preds.shape)\n"
      ],
      "metadata": {
        "id": "1aQSBNUQme09",
        "colab": {
          "base_uri": "https://localhost:8080/"
        },
        "outputId": "d66f9a3a-430c-4d5b-f441-fccbb6a247cd"
      },
      "execution_count": 7,
      "outputs": [
        {
          "output_type": "stream",
          "name": "stdout",
          "text": [
            "640 (1050500, 7)\n",
            "768 (1050500, 7)\n",
            "800 (1050500, 7)\n",
            "896 (1050500, 7)\n",
            "960 (1050500, 7)\n",
            "1024 (1050500, 7)\n",
            "1280 (1050500, 7)\n",
            "1344 (1050500, 7)\n",
            "1440 (1050500, 7)\n",
            "1536 (1050500, 7)\n",
            "1600 (1050500, 7)\n",
            "1760 (1050500, 7)\n",
            "1856 (1050500, 7)\n",
            "1920 (1050500, 7)\n"
          ]
        }
      ]
    },
    {
      "cell_type": "code",
      "source": [],
      "metadata": {
        "id": "TLZPW7UlTFsu"
      },
      "execution_count": 7,
      "outputs": []
    },
    {
      "cell_type": "code",
      "source": [
        "def merge_bboxes(dfs,iou_thr,skip_box_thr,df_meta=None):\n",
        "    wb_boxes = []; wb_scores = []; wb_labels = []\n",
        "    df_res_wbf = []\n",
        "    image_ids = pd.concat(dfs).Image_ID.unique().tolist()\n",
        "    weights = None\n",
        "\n",
        "    cols = ['xmin','ymin','xmax','ymax']\n",
        "\n",
        "    for Image_ID in tqdm(image_ids):\n",
        "      boxes_list = []; scores_list = []; labels_list = []\n",
        "      h,w,_ = cv2.imread(f'{DIR_DATA}/images/{Image_ID}').shape\n",
        "      for ix_res, df_res in enumerate(dfs):\n",
        "          d = df_res[df_res.Image_ID==Image_ID].copy()\n",
        "\n",
        "          boxes = d[cols].values\n",
        "          scores = d.confidence.tolist()\n",
        "          labels = d['class'].map(class2id).values.tolist()\n",
        "\n",
        "          boxes_ = []\n",
        "          scores_ = []\n",
        "          labels_ = []\n",
        "          for i,box in enumerate(boxes):\n",
        "            if box[2]> box[0] and box[3]>box[1]:\n",
        "              boxes_.append(box)\n",
        "              scores_.append(scores[i])\n",
        "              labels_.append(labels[i])\n",
        "\n",
        "          boxes = boxes_\n",
        "          scores = scores_\n",
        "          labels = labels_\n",
        "\n",
        "          boxes = [[x[0]/w,x[1]/h,x[2]/w,x[3]/h] for x in boxes]\n",
        "\n",
        "          boxes_list.append(boxes)\n",
        "          scores_list.append(scores)\n",
        "          labels_list.append(labels)\n",
        "\n",
        "      if len(boxes_list)>0:\n",
        "        boxes, scores, labels = weighted_boxes_fusion(boxes_list, scores_list, labels_list, weights=[1 for i in range(len(boxes_list))], iou_thr=iou_thr, skip_box_thr=skip_box_thr)\n",
        "\n",
        "      else:\n",
        "        boxes = []\n",
        "\n",
        "      boxes = [[x[0]*w,x[1]*h,x[2]*w,x[3]*h] for x in boxes]\n",
        "      ws = [b[2]-b[0] for b in boxes]\n",
        "      hs = [b[3]-b[1] for b in boxes]\n",
        "\n",
        "      if len(boxes)==0:\n",
        "        d_res = pd.DataFrame([{ 'Image_ID': Image_ID, 'class': 'Corn_Healthy', 'confidence': 0.5, 'ymin': 0, 'xmin': 0, 'ymax': 0, 'xmax': 0 }])\n",
        "      else:\n",
        "        xmin = np.array(boxes)[:,0]\n",
        "        ymin = np.array(boxes)[:,1]\n",
        "        xmax = np.array(boxes)[:,2]\n",
        "        ymax = np.array(boxes)[:,3]\n",
        "\n",
        "        d_res = pd.DataFrame(dict(Image_ID=Image_ID,confidence=scores,ymin=ymin,xmin=xmin,ymax=ymax,xmax=xmax))\n",
        "        d_res['class'] =  [id2class[l] for l in labels ]\n",
        "\n",
        "      df_res_wbf.append(d_res)\n",
        "\n",
        "\n",
        "    df_res_wbf = pd.concat(df_res_wbf)\n",
        "    return df_res_wbf\n",
        "\n"
      ],
      "metadata": {
        "id": "8fNtMvh9TXeY"
      },
      "execution_count": 8,
      "outputs": []
    },
    {
      "cell_type": "code",
      "source": [],
      "metadata": {
        "id": "2LvBXI2yd8-U"
      },
      "execution_count": 8,
      "outputs": []
    },
    {
      "cell_type": "code",
      "source": [
        "dfs = [pd.read_csv(f'test_preds/preds_0_{imgsz}.csv') for imgsz in IMGSZS]\n",
        "print(len(dfs))\n",
        "\n",
        "iou_thr = 0.5\n",
        "df_res_wbf = merge_bboxes(dfs,iou_thr = iou_thr, skip_box_thr=0.001)\n",
        "df_res_wbf.to_csv('submission.csv',index=False)\n",
        "print(iou_thr)"
      ],
      "metadata": {
        "colab": {
          "base_uri": "https://localhost:8080/"
        },
        "id": "1eMOrsHueCOV",
        "outputId": "46ebd47f-0384-436a-9f13-dc5a08a98c4f"
      },
      "execution_count": 9,
      "outputs": [
        {
          "output_type": "stream",
          "name": "stdout",
          "text": [
            "14\n"
          ]
        },
        {
          "output_type": "stream",
          "name": "stderr",
          "text": [
            "100%|██████████| 2101/2101 [53:30<00:00,  1.53s/it]\n"
          ]
        },
        {
          "output_type": "stream",
          "name": "stdout",
          "text": [
            "0.5\n"
          ]
        }
      ]
    },
    {
      "cell_type": "code",
      "source": [
        "df_res_wbf.describe()"
      ],
      "metadata": {
        "colab": {
          "base_uri": "https://localhost:8080/",
          "height": 300
        },
        "id": "55rF_dP1s2sq",
        "outputId": "99aa1783-cf7c-481c-f0d7-d7831273577d"
      },
      "execution_count": 10,
      "outputs": [
        {
          "output_type": "execute_result",
          "data": {
            "text/plain": [
              "          confidence           ymin           xmin           ymax  \\\n",
              "count  669659.000000  669659.000000  669659.000000  669659.000000   \n",
              "mean        0.018402    1151.838746    1709.500306    1329.656518   \n",
              "std         0.081542     755.638911    1100.768919     772.254385   \n",
              "min         0.000071       0.000000       0.000000       0.000941   \n",
              "25%         0.000194     574.399556     849.475908     734.742393   \n",
              "50%         0.000664    1043.595469    1595.572321    1236.948392   \n",
              "75%         0.003258    1644.293977    2479.476892    1832.133145   \n",
              "max         0.964719    4478.825000    6686.703600    4480.000534   \n",
              "\n",
              "                xmax  \n",
              "count  669659.000000  \n",
              "mean     1919.912918  \n",
              "std      1129.585117  \n",
              "min         0.001427  \n",
              "25%      1005.547028  \n",
              "50%      1818.708143  \n",
              "75%      2731.222186  \n",
              "max      6720.000801  "
            ],
            "text/html": [
              "\n",
              "  <div id=\"df-b9eee2f0-8216-48fd-8483-b80dc467063a\" class=\"colab-df-container\">\n",
              "    <div>\n",
              "<style scoped>\n",
              "    .dataframe tbody tr th:only-of-type {\n",
              "        vertical-align: middle;\n",
              "    }\n",
              "\n",
              "    .dataframe tbody tr th {\n",
              "        vertical-align: top;\n",
              "    }\n",
              "\n",
              "    .dataframe thead th {\n",
              "        text-align: right;\n",
              "    }\n",
              "</style>\n",
              "<table border=\"1\" class=\"dataframe\">\n",
              "  <thead>\n",
              "    <tr style=\"text-align: right;\">\n",
              "      <th></th>\n",
              "      <th>confidence</th>\n",
              "      <th>ymin</th>\n",
              "      <th>xmin</th>\n",
              "      <th>ymax</th>\n",
              "      <th>xmax</th>\n",
              "    </tr>\n",
              "  </thead>\n",
              "  <tbody>\n",
              "    <tr>\n",
              "      <th>count</th>\n",
              "      <td>669659.000000</td>\n",
              "      <td>669659.000000</td>\n",
              "      <td>669659.000000</td>\n",
              "      <td>669659.000000</td>\n",
              "      <td>669659.000000</td>\n",
              "    </tr>\n",
              "    <tr>\n",
              "      <th>mean</th>\n",
              "      <td>0.018402</td>\n",
              "      <td>1151.838746</td>\n",
              "      <td>1709.500306</td>\n",
              "      <td>1329.656518</td>\n",
              "      <td>1919.912918</td>\n",
              "    </tr>\n",
              "    <tr>\n",
              "      <th>std</th>\n",
              "      <td>0.081542</td>\n",
              "      <td>755.638911</td>\n",
              "      <td>1100.768919</td>\n",
              "      <td>772.254385</td>\n",
              "      <td>1129.585117</td>\n",
              "    </tr>\n",
              "    <tr>\n",
              "      <th>min</th>\n",
              "      <td>0.000071</td>\n",
              "      <td>0.000000</td>\n",
              "      <td>0.000000</td>\n",
              "      <td>0.000941</td>\n",
              "      <td>0.001427</td>\n",
              "    </tr>\n",
              "    <tr>\n",
              "      <th>25%</th>\n",
              "      <td>0.000194</td>\n",
              "      <td>574.399556</td>\n",
              "      <td>849.475908</td>\n",
              "      <td>734.742393</td>\n",
              "      <td>1005.547028</td>\n",
              "    </tr>\n",
              "    <tr>\n",
              "      <th>50%</th>\n",
              "      <td>0.000664</td>\n",
              "      <td>1043.595469</td>\n",
              "      <td>1595.572321</td>\n",
              "      <td>1236.948392</td>\n",
              "      <td>1818.708143</td>\n",
              "    </tr>\n",
              "    <tr>\n",
              "      <th>75%</th>\n",
              "      <td>0.003258</td>\n",
              "      <td>1644.293977</td>\n",
              "      <td>2479.476892</td>\n",
              "      <td>1832.133145</td>\n",
              "      <td>2731.222186</td>\n",
              "    </tr>\n",
              "    <tr>\n",
              "      <th>max</th>\n",
              "      <td>0.964719</td>\n",
              "      <td>4478.825000</td>\n",
              "      <td>6686.703600</td>\n",
              "      <td>4480.000534</td>\n",
              "      <td>6720.000801</td>\n",
              "    </tr>\n",
              "  </tbody>\n",
              "</table>\n",
              "</div>\n",
              "    <div class=\"colab-df-buttons\">\n",
              "\n",
              "  <div class=\"colab-df-container\">\n",
              "    <button class=\"colab-df-convert\" onclick=\"convertToInteractive('df-b9eee2f0-8216-48fd-8483-b80dc467063a')\"\n",
              "            title=\"Convert this dataframe to an interactive table.\"\n",
              "            style=\"display:none;\">\n",
              "\n",
              "  <svg xmlns=\"http://www.w3.org/2000/svg\" height=\"24px\" viewBox=\"0 -960 960 960\">\n",
              "    <path d=\"M120-120v-720h720v720H120Zm60-500h600v-160H180v160Zm220 220h160v-160H400v160Zm0 220h160v-160H400v160ZM180-400h160v-160H180v160Zm440 0h160v-160H620v160ZM180-180h160v-160H180v160Zm440 0h160v-160H620v160Z\"/>\n",
              "  </svg>\n",
              "    </button>\n",
              "\n",
              "  <style>\n",
              "    .colab-df-container {\n",
              "      display:flex;\n",
              "      gap: 12px;\n",
              "    }\n",
              "\n",
              "    .colab-df-convert {\n",
              "      background-color: #E8F0FE;\n",
              "      border: none;\n",
              "      border-radius: 50%;\n",
              "      cursor: pointer;\n",
              "      display: none;\n",
              "      fill: #1967D2;\n",
              "      height: 32px;\n",
              "      padding: 0 0 0 0;\n",
              "      width: 32px;\n",
              "    }\n",
              "\n",
              "    .colab-df-convert:hover {\n",
              "      background-color: #E2EBFA;\n",
              "      box-shadow: 0px 1px 2px rgba(60, 64, 67, 0.3), 0px 1px 3px 1px rgba(60, 64, 67, 0.15);\n",
              "      fill: #174EA6;\n",
              "    }\n",
              "\n",
              "    .colab-df-buttons div {\n",
              "      margin-bottom: 4px;\n",
              "    }\n",
              "\n",
              "    [theme=dark] .colab-df-convert {\n",
              "      background-color: #3B4455;\n",
              "      fill: #D2E3FC;\n",
              "    }\n",
              "\n",
              "    [theme=dark] .colab-df-convert:hover {\n",
              "      background-color: #434B5C;\n",
              "      box-shadow: 0px 1px 3px 1px rgba(0, 0, 0, 0.15);\n",
              "      filter: drop-shadow(0px 1px 2px rgba(0, 0, 0, 0.3));\n",
              "      fill: #FFFFFF;\n",
              "    }\n",
              "  </style>\n",
              "\n",
              "    <script>\n",
              "      const buttonEl =\n",
              "        document.querySelector('#df-b9eee2f0-8216-48fd-8483-b80dc467063a button.colab-df-convert');\n",
              "      buttonEl.style.display =\n",
              "        google.colab.kernel.accessAllowed ? 'block' : 'none';\n",
              "\n",
              "      async function convertToInteractive(key) {\n",
              "        const element = document.querySelector('#df-b9eee2f0-8216-48fd-8483-b80dc467063a');\n",
              "        const dataTable =\n",
              "          await google.colab.kernel.invokeFunction('convertToInteractive',\n",
              "                                                    [key], {});\n",
              "        if (!dataTable) return;\n",
              "\n",
              "        const docLinkHtml = 'Like what you see? Visit the ' +\n",
              "          '<a target=\"_blank\" href=https://colab.research.google.com/notebooks/data_table.ipynb>data table notebook</a>'\n",
              "          + ' to learn more about interactive tables.';\n",
              "        element.innerHTML = '';\n",
              "        dataTable['output_type'] = 'display_data';\n",
              "        await google.colab.output.renderOutput(dataTable, element);\n",
              "        const docLink = document.createElement('div');\n",
              "        docLink.innerHTML = docLinkHtml;\n",
              "        element.appendChild(docLink);\n",
              "      }\n",
              "    </script>\n",
              "  </div>\n",
              "\n",
              "\n",
              "<div id=\"df-f37aa936-cb9e-4ac1-9804-d15e65f530f3\">\n",
              "  <button class=\"colab-df-quickchart\" onclick=\"quickchart('df-f37aa936-cb9e-4ac1-9804-d15e65f530f3')\"\n",
              "            title=\"Suggest charts\"\n",
              "            style=\"display:none;\">\n",
              "\n",
              "<svg xmlns=\"http://www.w3.org/2000/svg\" height=\"24px\"viewBox=\"0 0 24 24\"\n",
              "     width=\"24px\">\n",
              "    <g>\n",
              "        <path d=\"M19 3H5c-1.1 0-2 .9-2 2v14c0 1.1.9 2 2 2h14c1.1 0 2-.9 2-2V5c0-1.1-.9-2-2-2zM9 17H7v-7h2v7zm4 0h-2V7h2v10zm4 0h-2v-4h2v4z\"/>\n",
              "    </g>\n",
              "</svg>\n",
              "  </button>\n",
              "\n",
              "<style>\n",
              "  .colab-df-quickchart {\n",
              "      --bg-color: #E8F0FE;\n",
              "      --fill-color: #1967D2;\n",
              "      --hover-bg-color: #E2EBFA;\n",
              "      --hover-fill-color: #174EA6;\n",
              "      --disabled-fill-color: #AAA;\n",
              "      --disabled-bg-color: #DDD;\n",
              "  }\n",
              "\n",
              "  [theme=dark] .colab-df-quickchart {\n",
              "      --bg-color: #3B4455;\n",
              "      --fill-color: #D2E3FC;\n",
              "      --hover-bg-color: #434B5C;\n",
              "      --hover-fill-color: #FFFFFF;\n",
              "      --disabled-bg-color: #3B4455;\n",
              "      --disabled-fill-color: #666;\n",
              "  }\n",
              "\n",
              "  .colab-df-quickchart {\n",
              "    background-color: var(--bg-color);\n",
              "    border: none;\n",
              "    border-radius: 50%;\n",
              "    cursor: pointer;\n",
              "    display: none;\n",
              "    fill: var(--fill-color);\n",
              "    height: 32px;\n",
              "    padding: 0;\n",
              "    width: 32px;\n",
              "  }\n",
              "\n",
              "  .colab-df-quickchart:hover {\n",
              "    background-color: var(--hover-bg-color);\n",
              "    box-shadow: 0 1px 2px rgba(60, 64, 67, 0.3), 0 1px 3px 1px rgba(60, 64, 67, 0.15);\n",
              "    fill: var(--button-hover-fill-color);\n",
              "  }\n",
              "\n",
              "  .colab-df-quickchart-complete:disabled,\n",
              "  .colab-df-quickchart-complete:disabled:hover {\n",
              "    background-color: var(--disabled-bg-color);\n",
              "    fill: var(--disabled-fill-color);\n",
              "    box-shadow: none;\n",
              "  }\n",
              "\n",
              "  .colab-df-spinner {\n",
              "    border: 2px solid var(--fill-color);\n",
              "    border-color: transparent;\n",
              "    border-bottom-color: var(--fill-color);\n",
              "    animation:\n",
              "      spin 1s steps(1) infinite;\n",
              "  }\n",
              "\n",
              "  @keyframes spin {\n",
              "    0% {\n",
              "      border-color: transparent;\n",
              "      border-bottom-color: var(--fill-color);\n",
              "      border-left-color: var(--fill-color);\n",
              "    }\n",
              "    20% {\n",
              "      border-color: transparent;\n",
              "      border-left-color: var(--fill-color);\n",
              "      border-top-color: var(--fill-color);\n",
              "    }\n",
              "    30% {\n",
              "      border-color: transparent;\n",
              "      border-left-color: var(--fill-color);\n",
              "      border-top-color: var(--fill-color);\n",
              "      border-right-color: var(--fill-color);\n",
              "    }\n",
              "    40% {\n",
              "      border-color: transparent;\n",
              "      border-right-color: var(--fill-color);\n",
              "      border-top-color: var(--fill-color);\n",
              "    }\n",
              "    60% {\n",
              "      border-color: transparent;\n",
              "      border-right-color: var(--fill-color);\n",
              "    }\n",
              "    80% {\n",
              "      border-color: transparent;\n",
              "      border-right-color: var(--fill-color);\n",
              "      border-bottom-color: var(--fill-color);\n",
              "    }\n",
              "    90% {\n",
              "      border-color: transparent;\n",
              "      border-bottom-color: var(--fill-color);\n",
              "    }\n",
              "  }\n",
              "</style>\n",
              "\n",
              "  <script>\n",
              "    async function quickchart(key) {\n",
              "      const quickchartButtonEl =\n",
              "        document.querySelector('#' + key + ' button');\n",
              "      quickchartButtonEl.disabled = true;  // To prevent multiple clicks.\n",
              "      quickchartButtonEl.classList.add('colab-df-spinner');\n",
              "      try {\n",
              "        const charts = await google.colab.kernel.invokeFunction(\n",
              "            'suggestCharts', [key], {});\n",
              "      } catch (error) {\n",
              "        console.error('Error during call to suggestCharts:', error);\n",
              "      }\n",
              "      quickchartButtonEl.classList.remove('colab-df-spinner');\n",
              "      quickchartButtonEl.classList.add('colab-df-quickchart-complete');\n",
              "    }\n",
              "    (() => {\n",
              "      let quickchartButtonEl =\n",
              "        document.querySelector('#df-f37aa936-cb9e-4ac1-9804-d15e65f530f3 button');\n",
              "      quickchartButtonEl.style.display =\n",
              "        google.colab.kernel.accessAllowed ? 'block' : 'none';\n",
              "    })();\n",
              "  </script>\n",
              "</div>\n",
              "\n",
              "    </div>\n",
              "  </div>\n"
            ],
            "application/vnd.google.colaboratory.intrinsic+json": {
              "type": "dataframe",
              "summary": "{\n  \"name\": \"df_res_wbf\",\n  \"rows\": 8,\n  \"fields\": [\n    {\n      \"column\": \"confidence\",\n      \"properties\": {\n        \"dtype\": \"number\",\n        \"std\": 236760.15600646444,\n        \"min\": 7.142862142857144e-05,\n        \"max\": 669659.0,\n        \"num_unique_values\": 8,\n        \"samples\": [\n          0.018401733520551168,\n          0.0006641499099454709,\n          669659.0\n        ],\n        \"semantic_type\": \"\",\n        \"description\": \"\"\n      }\n    },\n    {\n      \"column\": \"ymin\",\n      \"properties\": {\n        \"dtype\": \"number\",\n        \"std\": 236276.74636062034,\n        \"min\": 0.0,\n        \"max\": 669659.0,\n        \"num_unique_values\": 8,\n        \"samples\": [\n          1151.8387459157132,\n          1043.595469236374,\n          669659.0\n        ],\n        \"semantic_type\": \"\",\n        \"description\": \"\"\n      }\n    },\n    {\n      \"column\": \"xmin\",\n      \"properties\": {\n        \"dtype\": \"number\",\n        \"std\": 236040.4540620339,\n        \"min\": 0.0,\n        \"max\": 669659.0,\n        \"num_unique_values\": 8,\n        \"samples\": [\n          1709.500306456627,\n          1595.5723214149475,\n          669659.0\n        ],\n        \"semantic_type\": \"\",\n        \"description\": \"\"\n      }\n    },\n    {\n      \"column\": \"ymax\",\n      \"properties\": {\n        \"dtype\": \"number\",\n        \"std\": 236239.41615779704,\n        \"min\": 0.00094070437,\n        \"max\": 669659.0,\n        \"num_unique_values\": 8,\n        \"samples\": [\n          1329.6565184898207,\n          1236.9483919143677,\n          669659.0\n        ],\n        \"semantic_type\": \"\",\n        \"description\": \"\"\n      }\n    },\n    {\n      \"column\": \"xmax\",\n      \"properties\": {\n        \"dtype\": \"number\",\n        \"std\": 235994.76202391327,\n        \"min\": 0.0014268458,\n        \"max\": 669659.0,\n        \"num_unique_values\": 8,\n        \"samples\": [\n          1919.9129182946863,\n          1818.708143234253,\n          669659.0\n        ],\n        \"semantic_type\": \"\",\n        \"description\": \"\"\n      }\n    }\n  ]\n}"
            }
          },
          "metadata": {},
          "execution_count": 10
        }
      ]
    },
    {
      "cell_type": "code",
      "source": [],
      "metadata": {
        "id": "0sKahXHWsW8H"
      },
      "execution_count": 10,
      "outputs": []
    }
  ],
  "metadata": {
    "colab": {
      "provenance": [],
      "gpuType": "T4"
    },
    "kaggle": {
      "accelerator": "gpu",
      "dataSources": [],
      "dockerImageVersionId": 30787,
      "isGpuEnabled": true,
      "isInternetEnabled": true,
      "language": "python",
      "sourceType": "notebook"
    },
    "kernelspec": {
      "display_name": "Python 3",
      "name": "python3"
    },
    "language_info": {
      "codemirror_mode": {
        "name": "ipython",
        "version": 3
      },
      "file_extension": ".py",
      "mimetype": "text/x-python",
      "name": "python",
      "nbconvert_exporter": "python",
      "pygments_lexer": "ipython3",
      "version": "3.10.14"
    },
    "accelerator": "GPU"
  },
  "nbformat": 4,
  "nbformat_minor": 0
}